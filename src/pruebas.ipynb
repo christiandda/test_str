{
 "cells": [
  {
   "attachments": {},
   "cell_type": "markdown",
   "metadata": {},
   "source": [
    "# A Jupyter file to do some code tests"
   ]
  },
  {
   "attachments": {},
   "cell_type": "markdown",
   "metadata": {},
   "source": [
    "## get infro de database directly"
   ]
  },
  {
   "cell_type": "code",
   "execution_count": 6,
   "metadata": {},
   "outputs": [],
   "source": [
    "import boto3\n",
    "from botocore.exceptions import ClientError\n",
    "def get_secret():\n",
    "\n",
    "    secret_name = \"AppRepartoDB\"\n",
    "    region_name = \"eu-north-1\"\n",
    "\n",
    "    # Create a Secrets Manager client\n",
    "    session = boto3.session.Session()\n",
    "    client = session.client(\n",
    "        service_name='secretsmanager',\n",
    "        region_name=region_name\n",
    "    )\n",
    "\n",
    "    try:\n",
    "        get_secret_value_response = client.get_secret_value(\n",
    "            SecretId=secret_name\n",
    "        )\n",
    "    except ClientError as e:\n",
    "        # For a list of exceptions thrown, see\n",
    "        # https://docs.aws.amazon.com/secretsmanager/latest/apireference/API_GetSecretValue.html\n",
    "        raise e\n",
    "\n",
    "    # Decrypts secret using the associated KMS key.\n",
    "    secret = get_secret_value_response['SecretString']"
   ]
  },
  {
   "cell_type": "code",
   "execution_count": 7,
   "metadata": {},
   "outputs": [
    {
     "name": "stdout",
     "output_type": "stream",
     "text": [
      "clientes\n",
      "clientes2\n",
      "comercios\n",
      "pedidos\n",
      "repartidores\n"
     ]
    }
   ],
   "source": [
    "from dotenv import load_dotenv\n",
    "import os\n",
    "import psycopg2\n",
    "load_dotenv()\n",
    "\n",
    "# Get database credentials from environment variables\n",
    "db_host = os.environ.get('PGSQL_HOST')\n",
    "db_user = os.environ.get('PGSQL_USER')\n",
    "db_password = os.environ.get('PGSQL_PASSWORD')\n",
    "db_name = os.environ.get('PGSQL_DATABASE')\n",
    "\n",
    "# Establish a connection to the database\n",
    "conn = psycopg2.connect(\n",
    "    host=db_host,\n",
    "    user=db_user,\n",
    "    password=db_password,\n",
    "    database=db_name\n",
    ")\n",
    "cur = conn.cursor()\n",
    "cur.execute(\"SELECT table_name FROM information_schema.tables WHERE table_schema = 'public' ORDER BY table_name\")\n",
    "table_names = cur.fetchall()\n",
    "cur.close()\n",
    "\n",
    "for table_name in table_names:\n",
    "    print(table_name[0])"
   ]
  },
  {
   "cell_type": "code",
   "execution_count": 8,
   "metadata": {},
   "outputs": [
    {
     "name": "stdout",
     "output_type": "stream",
     "text": [
      "id\n",
      "latitud\n",
      "longitud\n",
      "nombre\n",
      "email\n",
      "direccion\n"
     ]
    }
   ],
   "source": [
    "cur = conn.cursor()\n",
    "cur.execute(\"SELECT column_name FROM information_schema.columns WHERE table_name = 'clientes2'\")\n",
    "column_names = cur.fetchall()\n",
    "cur.close()\n",
    "\n",
    "for column_name in column_names:\n",
    "    print(column_name[0])"
   ]
  },
  {
   "cell_type": "code",
   "execution_count": 9,
   "metadata": {},
   "outputs": [
    {
     "name": "stdout",
     "output_type": "stream",
     "text": [
      "(1, 'Pedro', 'hudfiuhdsf@gmail.com', 'calle sinverguenzas', Decimal('40.452575'), Decimal('-3.616006'))\n",
      "(2, 'Juan', 'juan@gmail.com', 'Pl. Cronos, 5, 28037 Madrid, Spain', Decimal('40.439303'), Decimal('-3.619272'))\n"
     ]
    }
   ],
   "source": [
    "cur = conn.cursor()\n",
    "cur.execute(\"SELECT * FROM clientes2\")\n",
    "clientes = cur.fetchall()\n",
    "cur.close()\n",
    "\n",
    "for cliente in clientes:\n",
    "    print(cliente)"
   ]
  },
  {
   "cell_type": "code",
   "execution_count": 12,
   "metadata": {},
   "outputs": [
    {
     "name": "stdout",
     "output_type": "stream",
     "text": [
      "Searching for: pedro\n",
      "Name does not exist in clientes2 table.\n"
     ]
    }
   ],
   "source": [
    "name_to_check = input(\"Enter the name to check: \")\n",
    "print (\"Searching for:\",name_to_check)\n",
    "cur = conn.cursor()\n",
    "cur.execute(\"SELECT EXISTS(SELECT 1 FROM clientes2 WHERE nombre = %s)\", (name_to_check,))\n",
    "exists = cur.fetchone()[0]\n",
    "cur.close()\n",
    "\n",
    "if exists:\n",
    "    print(\"Name exists in clientes2 table.\")\n",
    "else:\n",
    "    print(\"Name does not exist in clientes2 table.\")"
   ]
  },
  {
   "attachments": {},
   "cell_type": "markdown",
   "metadata": {},
   "source": [
    "# create json example to get logins"
   ]
  },
  {
   "cell_type": "code",
   "execution_count": 7,
   "metadata": {},
   "outputs": [
    {
     "name": "stdout",
     "output_type": "stream",
     "text": [
      "[{'name': 'David', 'password': 'password123', 'type': 'user'}, {'name': 'Pepe', 'password': 'password456', 'type': 'admin'}, {'name': 'Maria', 'password': 'password789', 'type': 'driver'}]\n"
     ]
    }
   ],
   "source": [
    "import pandas as pd\n",
    "# Create a sample DataFrame\n",
    "users = pd.DataFrame({\n",
    "    'name': ['David', 'Pepe', 'Maria'],\n",
    "    'password': ['password123', 'password456', 'password789'],\n",
    "    'type': ['user', 'admin', 'driver']\n",
    "})\n",
    "\n",
    "# Convert two columns of the DataFrame to a dictionary\n",
    "my_dict = users[['name', 'password','type']].to_dict('records')\n",
    "\n",
    "# Print the resulting dictionary\n",
    "print(my_dict)"
   ]
  },
  {
   "cell_type": "code",
   "execution_count": 8,
   "metadata": {},
   "outputs": [],
   "source": [
    "import json\n",
    "# Convert the dictionary to a JSON string\n",
    "json_string = json.dumps(my_dict)\n",
    "\n",
    "# Print the resulting JSON string\n",
    "json_string\n",
    "\n",
    "# Save the dictionary as a JSON file\n",
    "with open('users_logins.json', 'w') as f:\n",
    "    json.dump(my_dict, f)"
   ]
  },
  {
   "cell_type": "code",
   "execution_count": 9,
   "metadata": {},
   "outputs": [
    {
     "name": "stdout",
     "output_type": "stream",
     "text": [
      "[{'name': 'David', 'password': 'password123', 'type': 'user'}, {'name': 'Pepe', 'password': 'password456', 'type': 'admin'}, {'name': 'Maria', 'password': 'password789', 'type': 'driver'}]\n"
     ]
    }
   ],
   "source": [
    "import json\n",
    "# Load the JSON file into a dictionary\n",
    "with open('users_logins.json', 'r') as f:\n",
    "    my_dict = json.load(f)\n",
    "# Print the resulting dictionary\n",
    "print(my_dict)"
   ]
  },
  {
   "cell_type": "code",
   "execution_count": 10,
   "metadata": {},
   "outputs": [
    {
     "name": "stdout",
     "output_type": "stream",
     "text": [
      "user2 not found\n"
     ]
    }
   ],
   "source": [
    "username = 'user2'\n",
    "\n",
    "if username not in my_dict:\n",
    "    print(f'{username} not found')"
   ]
  }
 ],
 "metadata": {
  "kernelspec": {
   "display_name": "tripu",
   "language": "python",
   "name": "python3"
  },
  "language_info": {
   "codemirror_mode": {
    "name": "ipython",
    "version": 3
   },
   "file_extension": ".py",
   "mimetype": "text/x-python",
   "name": "python",
   "nbconvert_exporter": "python",
   "pygments_lexer": "ipython3",
   "version": "3.9.12"
  },
  "orig_nbformat": 4
 },
 "nbformat": 4,
 "nbformat_minor": 2
}
